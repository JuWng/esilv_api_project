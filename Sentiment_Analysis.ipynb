{
 "cells": [
  {
   "cell_type": "markdown",
   "metadata": {},
   "source": [
    "# Sentiment analysis of AI Website"
   ]
  },
  {
   "cell_type": "code",
   "execution_count": 7,
   "metadata": {},
   "outputs": [
    {
     "name": "stdout",
     "output_type": "stream",
     "text": [
      "Ovarall sentiment of the text :  -0.8125  (TextBlob Sentiment Analysis)\n",
      "Overall sentiment of the text :  -0.7835  (Vader Sentiment Analysis)\n"
     ]
    }
   ],
   "source": [
    "#%pip install textblob\n",
    "\n",
    "# Importing the TextBlob module\n",
    "from textblob import TextBlob\n",
    "\n",
    "# Sentence\n",
    "sentence = \"I feeling extremly terrible today, I am so sad!\"\n",
    "\n",
    "\n",
    "res = TextBlob(sentence)\n",
    "\n",
    "print(\"Ovarall sentiment of the text : \", res.sentiment.polarity, ' (TextBlob Sentiment Analysis)')\n",
    "\n",
    "#%pip install vaderSentiment\n",
    "# Importing the SentimentIntensityAnalyzer class\n",
    "from vaderSentiment.vaderSentiment import SentimentIntensityAnalyzer\n",
    "\n",
    "sid_obj= SentimentIntensityAnalyzer()\n",
    "\n",
    "print(\"Overall sentiment of the text : \", sid_obj.polarity_scores(sentence)['compound'], ' (Vader Sentiment Analysis)')\n"
   ]
  }
 ],
 "metadata": {
  "kernelspec": {
   "display_name": "base",
   "language": "python",
   "name": "python3"
  },
  "language_info": {
   "codemirror_mode": {
    "name": "ipython",
    "version": 3
   },
   "file_extension": ".py",
   "mimetype": "text/x-python",
   "name": "python",
   "nbconvert_exporter": "python",
   "pygments_lexer": "ipython3",
   "version": "3.9.13"
  }
 },
 "nbformat": 4,
 "nbformat_minor": 2
}
