
#%pip install textblob
#%pip install vaderSentiment

from textblob import TextBlob
from vaderSentiment.vaderSentiment import SentimentIntensityAnalyzer

def analyser_sentiment_textblob(texte):
    try:
        analyse = TextBlob(texte)
        return analyse.sentiment.polarity
    except Exception as e:
        print(f"Erreur avec TextBlob: {e}")
        return None

def analyser_sentiment_vader(texte):
    try:
        analyseur = SentimentIntensityAnalyzer()
        scores = analyseur.polarity_scores(texte)
        return scores['compound']
    except Exception as e:
        print(f"Erreur avec VaderSentiment: {e}")
        return None

phrase = "I feeling extremely terrible today, I am so sad!"

polarite_textblob = analyser_sentiment_textblob(phrase)
score_vader = analyser_sentiment_vader(phrase)

print(f"Analyse de sentiment TextBlob :\nPolarité globale : {polarite_textblob}")
print(f"Analyse de sentiment VADER :\nScore composé global : {score_vader}")
